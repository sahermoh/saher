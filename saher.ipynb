{
 "cells": [
  {
   "cell_type": "code",
   "execution_count": null,
   "metadata": {},
   "outputs": [],
   "source": [
    "import numpy as np\n",
    "import cv2\n",
    "from matplotlib import pyplot as plt\n",
    "\n",
    "img = cv2.imread('sss.jpg',0)\n",
    "cv2.imshow('image',img)\n",
    "hist = cv2.calcHist([img],[0],None,[256],[0,256])\n",
    "plt.hist(img.ravel(),256,[0,256]); plt.show()\n",
    "\n",
    "\n",
    "ret,l = cv2.threshold(img,100,130,cv2.THRESH_BINARY)\n",
    "\n",
    "plt.imshow(l,'gray')\n",
    "plt.title('asd')\n",
    "plt.xticks([]),plt.yticks([])\n",
    "plt.show()\n",
    "\n",
    "\n",
    "\n",
    "k = cv2.waitKey(0)\n",
    "\n",
    "\n",
    "if k == 27:     \n",
    "    cv2.destroyAllWindows()\n",
    "elif k == ord('s'): \n",
    "    cv2.imwrite('messigray.png',img)\n",
    "    cv2.destroyAllWindows()"
   ]
  },
  {
   "cell_type": "markdown",
   "metadata": {},
   "source": [
    "-the histogram for this image is low contract this meaning all values for  intensity pixels are close together\n",
    "-There is no even distribution in pixel values\n",
    "-Between white and black"
   ]
  }
 ],
 "metadata": {
  "kernelspec": {
   "display_name": "Python 3",
   "language": "python",
   "name": "python3"
  },
  "language_info": {
   "codemirror_mode": {
    "name": "ipython",
    "version": 3
   },
   "file_extension": ".py",
   "mimetype": "text/x-python",
   "name": "python",
   "nbconvert_exporter": "python",
   "pygments_lexer": "ipython3",
   "version": "3.6.1"
  }
 },
 "nbformat": 4,
 "nbformat_minor": 2
}
